{
 "cells": [
  {
   "cell_type": "code",
   "execution_count": null,
   "metadata": {},
   "outputs": [],
   "source": [
    "%pip install numpy\n",
    "%pip install matplotlib"
   ]
  },
  {
   "cell_type": "code",
   "execution_count": null,
   "metadata": {},
   "outputs": [],
   "source": [
    "import numpy as np\n",
    "import matplotlib.pyplot as plt\n",
    "from sklearn.model_selection import train_test_split\n",
    "from sklearn.linear_model import SGDRegressor\n",
    "from sklearn.preprocessing import StandardScaler\n",
    "import warnings\n"
   ]
  },
  {
   "cell_type": "markdown",
   "metadata": {},
   "source": [
    "Helper function for visualisations"
   ]
  },
  {
   "cell_type": "code",
   "execution_count": null,
   "metadata": {},
   "outputs": [],
   "source": [
    "def plot(x, y, title=None):\n",
    "    plt.figure(figsize=(4, 3))\n",
    "    plt.scatter(x, y, color='red', s=3) \n",
    "    plt.xlabel(\"X values\")\n",
    "    plt.ylabel(\"Y values\")\n",
    "    if title:\n",
    "        plt.title(title)\n",
    "    else:\n",
    "        plt.title(\"Scatterplot Comparison\")\n",
    "    plt.grid(True)\n",
    "    plt.show()\n",
    "\n",
    "def plot_comparison(values1, values2, title=None):\n",
    "    plt.figure(figsize=(4, 3))\n",
    "    plt.scatter(values1[0], values1[1], color='red', label='Actual Values', s=3) \n",
    "    plt.scatter(values2[0], values2[1], color='blue', label='Predicted Values',s =3) \n",
    "    plt.xlabel(\"X values\")\n",
    "    plt.ylabel(\"Y values\")\n",
    "    if title:\n",
    "        plt.title(title)\n",
    "    else:\n",
    "        plt.title(\"Scatterplot Comparison\")\n",
    "    plt.grid(True)\n",
    "    plt.legend()\n",
    "    plt.show()"
   ]
  },
  {
   "cell_type": "markdown",
   "metadata": {},
   "source": [
    "Generating and pre-preparing the datasets"
   ]
  },
  {
   "cell_type": "code",
   "execution_count": null,
   "metadata": {},
   "outputs": [],
   "source": [
    "def generate_polynomial_dataset(degree, n_samples):\n",
    "    X = np.random.uniform(-5, 5, n_samples).reshape(-1, 1)\n",
    "    y = []\n",
    "    for xi in X:\n",
    "        sum = 0\n",
    "        for ki in range(degree + 1):\n",
    "            ak = np.random.uniform(0, 1)\n",
    "            term = ak * (xi ** ki)\n",
    "            sum += term\n",
    "        e = np.random.normal(0, 1)\n",
    "        yi = sum + e\n",
    "        y.append(yi)\n",
    "    return X, y"
   ]
  },
  {
   "cell_type": "code",
   "execution_count": null,
   "metadata": {},
   "outputs": [],
   "source": [
    "X_linear, y_linear = generate_polynomial_dataset(1, 1000)\n",
    "X_quad, y_quad = generate_polynomial_dataset(2, 1000)\n",
    "X_cubic, y_cubic = generate_polynomial_dataset(3, 1000)\n",
    "\n",
    "plot(X_linear, y_linear, \"Linear Dataset\")\n",
    "plot(X_quad, y_quad, \"Quadratic Dataset\")\n",
    "plot(X_cubic, y_cubic, \"Cubic Dataset\")\n",
    "\n",
    "X_quad = np.hstack((X_quad, X_quad**2))\n",
    "X_quad = StandardScaler().fit_transform(X_quad)\n",
    "X_cubic = np.hstack((X_cubic, X_cubic**2, X_cubic**3))\n",
    "X_cubic = StandardScaler().fit_transform(X_cubic)\n",
    "\n",
    "X_linear_train, X_linear_test, y_linear_train, y_linear_test = train_test_split(X_linear, y_linear, test_size=0.2)\n",
    "X_quad_train, X_quad_test, y_quad_train, y_quad_test = train_test_split(X_quad, y_quad, test_size=0.2)\n",
    "X_cubic_train, X_cubic_test, y_cubic_train, y_cubic_test = train_test_split(X_cubic, y_cubic, test_size=0.2)"
   ]
  },
  {
   "cell_type": "code",
   "execution_count": null,
   "metadata": {},
   "outputs": [],
   "source": [
    "alpha_choices = [0, 0.1, 100]"
   ]
  },
  {
   "cell_type": "markdown",
   "metadata": {},
   "source": [
    "Closed Form Ridge Regression"
   ]
  },
  {
   "cell_type": "code",
   "execution_count": null,
   "metadata": {},
   "outputs": [],
   "source": [
    "class RidgeRegression_ClosedForm():\n",
    "    def __init__(self, alpha = 0.5):\n",
    "        self.alpha = alpha\n",
    "        self.weights = None\n",
    "\n",
    "    def train(self, X, y):\n",
    "        X = np.insert(X, X.shape[1], 1, axis=1)\n",
    "        biased_i = np.identity(len(X[0]))\n",
    "        biased_i[0,0] = 0\n",
    "        XT = np.transpose(X)\n",
    "        self.weights = np.linalg.inv((XT @ X) + self.alpha * biased_i) @ XT @ y\n",
    "\n",
    "    def predict(self, X):\n",
    "        X = np.insert(X, X.shape[1], 1, axis=1)\n",
    "        return X @ self.weights"
   ]
  },
  {
   "cell_type": "code",
   "execution_count": null,
   "metadata": {},
   "outputs": [],
   "source": [
    "for alpha in alpha_choices:\n",
    "    linear_reg_cf = RidgeRegression_ClosedForm(alpha = alpha)\n",
    "    linear_reg_cf.train(X_linear_train, y_linear_train)\n",
    "    y_linear_predicted = linear_reg_cf.predict(X_linear_test)\n",
    "    plot_comparison([X_linear_test, y_linear_test], [X_linear_test, y_linear_predicted], f'Linear Comparison alpha = {alpha}')"
   ]
  },
  {
   "cell_type": "code",
   "execution_count": null,
   "metadata": {},
   "outputs": [],
   "source": [
    "for alpha in alpha_choices:\n",
    "    quad_reg_cf = RidgeRegression_ClosedForm(alpha = alpha)\n",
    "    quad_reg_cf.train(X_quad_train, y_quad_train)\n",
    "    y_quad_predicted = quad_reg_cf.predict(X_quad_test)\n",
    "    plot_comparison([X_quad_test[:,0], y_quad_test], [X_quad_test[:,0], y_quad_predicted], f'Quadratic Comparison alpha = {alpha}')"
   ]
  },
  {
   "cell_type": "code",
   "execution_count": null,
   "metadata": {},
   "outputs": [],
   "source": [
    "for alpha in alpha_choices:\n",
    "    cubic_reg_cf = RidgeRegression_ClosedForm(alpha = alpha)\n",
    "    cubic_reg_cf.train(X_cubic_train, y_cubic_train)\n",
    "    y_cubic_predicted = cubic_reg_cf.predict(X_cubic_test)\n",
    "    plot_comparison([X_cubic_test[:,0], y_cubic_test], [X_cubic_test[:,0], y_cubic_predicted], f'Cubic Comparison alpha = {alpha}')"
   ]
  },
  {
   "cell_type": "markdown",
   "metadata": {},
   "source": [
    "Scikit learn SGD regression"
   ]
  },
  {
   "cell_type": "code",
   "execution_count": null,
   "metadata": {},
   "outputs": [],
   "source": [
    "MAX_ITERATIONS = 1000\n",
    "warnings.filterwarnings(\"ignore\", category=UserWarning, module=\"sklearn\")\n",
    "\n",
    "def predict_SGDReg(X, Y, X_test, alpha):\n",
    "    sgd_reg = SGDRegressor(penalty='l2', alpha=alpha, max_iter=MAX_ITERATIONS)\n",
    "    sgd_reg.fit(X, Y)\n",
    "    return sgd_reg.predict(X_test)"
   ]
  },
  {
   "cell_type": "code",
   "execution_count": null,
   "metadata": {},
   "outputs": [],
   "source": [
    "for alpha in alpha_choices:\n",
    "    y_linear_predicted = predict_SGDReg(X_linear_train, y_linear_train, X_linear_test, alpha)\n",
    "    plot_comparison([X_linear_test, y_linear_test], [X_linear_test, y_linear_predicted], f'Linear Comparison: alpha = {alpha}')"
   ]
  },
  {
   "cell_type": "code",
   "execution_count": null,
   "metadata": {},
   "outputs": [],
   "source": [
    "for alpha in alpha_choices:\n",
    "    y_quad_predicted = predict_SGDReg(X_quad_train, y_quad_train, X_quad_test, alpha)\n",
    "    plot_comparison([X_quad_test[:,0], y_quad_test], [X_quad_test[:,0], y_quad_predicted], f'Quadratic Comparison: alpha = {alpha}')\n"
   ]
  },
  {
   "cell_type": "markdown",
   "metadata": {},
   "source": []
  },
  {
   "cell_type": "code",
   "execution_count": null,
   "metadata": {},
   "outputs": [],
   "source": [
    "for alpha in alpha_choices:\n",
    "    y_cubic_predicted = predict_SGDReg(X_cubic_train, y_cubic_train, X_cubic_test, alpha)\n",
    "    plot_comparison([X_cubic_test[:,0], y_cubic_test], [X_cubic_test[:,0], y_cubic_predicted], f'Cubic Comparison: alpha = {alpha}')\n",
    "    "
   ]
  },
  {
   "cell_type": "markdown",
   "metadata": {},
   "source": [
    "COLUMNS:\n",
    "0 = ID: Can be discarded\n",
    "1 = y array (classifications)\n",
    "2-11 = Mean values of radius, texture, perimeter, area, smoothness, compactness, concavity, concave points, symmetry, fractal dimensions\n",
    "12-21 = Standard error of values of same 10 fields\n",
    "22-31 = Worst value of same 10 fields\n"
   ]
  },
  {
   "cell_type": "code",
   "execution_count": 214,
   "metadata": {},
   "outputs": [],
   "source": [
    "from sklearn.svm import SVC\n",
    "import pandas as pd\n",
    "import matplotlib.pyplot as plt\n",
    "import seaborn as sns\n",
    "from sklearn.model_selection import train_test_split\n",
    "from sklearn.preprocessing import StandardScaler\n",
    "from sklearn.model_selection import GridSearchCV\n",
    "from sklearn.model_selection import StratifiedKFold\n",
    "from sklearn.metrics import confusion_matrix\n"
   ]
  },
  {
   "cell_type": "code",
   "execution_count": null,
   "metadata": {},
   "outputs": [],
   "source": [
    "def visualise_features(mean, se, worst, features):\n",
    "    fig, axes = plt.subplots(10, 1, figsize=(6, 30))\n",
    "\n",
    "    for i in range(10):\n",
    "        sns.histplot(mean.iloc[:, i], ax=axes[i], color='blue', label='Mean')\n",
    "        sns.histplot(se.iloc[:, i], ax=axes[i], color='red', label='SE')\n",
    "        sns.histplot(worst.iloc[:, i], ax=axes[i], color='green', label='Worst')\n",
    "        \n",
    "        axes[i].set_title(f'Distribution of {features[i]} ')\n",
    "        axes[i].set_xlabel(f'{features[i]}')\n",
    "        axes[i].legend()\n",
    "\n",
    "    plt.tight_layout()\n",
    "    plt.show()"
   ]
  },
  {
   "cell_type": "code",
   "execution_count": null,
   "metadata": {},
   "outputs": [],
   "source": [
    "FEATURES = [\"radius\", \"texture\", \"perimeter\", \"area\", \"smoothness\", \"compactness\", \"concavity\", \"concave_points\", \"symmetry\", \"fractal_dimensions\"]\n",
    "\n",
    "data = pd.read_csv('data/wdbc.data', header=None)\n",
    "\n",
    "headings = ['id', 'diagnosis']\n",
    "for feature_type in ['mean','se','worst']:\n",
    "    for feature in FEATURES:\n",
    "        headings.append(feature_type + '_' + feature)\n",
    "\n",
    "data.columns = headings\n",
    "\n",
    "data.drop(columns=['id'], inplace=True)\n",
    "\n",
    "mean_df = data.iloc[:, 1:11]\n",
    "se_df = data.iloc[:, 11:21]\n",
    "worst_df = data.iloc[:, 21:31]\n",
    "print(data.)\n",
    "visualise_features(mean_df, se_df, worst_df, FEATURES)"
   ]
  },
  {
   "cell_type": "code",
   "execution_count": 243,
   "metadata": {},
   "outputs": [
    {
     "name": "stdout",
     "output_type": "stream",
     "text": [
      "{'C': 3.0, 'class_weight': None, 'kernel': 'rbf'}\n"
     ]
    }
   ],
   "source": [
    "mean = mean_df.values\n",
    "se = se_df.values\n",
    "worst = worst_df.values\n",
    "\n",
    "X = mean + se\n",
    "X = StandardScaler().fit_transform(X)\n",
    "y = data.iloc[:, 0].values\n",
    "\n",
    "train_X, test_X, train_y, test_y = train_test_split(X, y, test_size=0.2) #STRATIFY?\n",
    "\n",
    "parameter_grid = {\n",
    "    'C': [0.5, 1.0, 3.0, 10.0], # C parameter (regularisation)\n",
    "    'kernel': ['linear', 'rbf', 'poly', 'sigmoid'],  # Different kernel types\n",
    "    'class_weight': ['balanced', None] # whether classes should be weighted inversely proporitional to frequency or treated equally\n",
    "}\n",
    "\n",
    "svc = SVC()\n",
    "strat_cv = StratifiedKFold(n_splits=5)\n",
    "grid_search = GridSearchCV(svc, parameter_grid, cv=strat_cv, scoring='accuracy')\n",
    "grid_search.fit(train_X, train_y)\n",
    "optimal_model = grid_search.best_estimator_\n",
    "\n",
    "print(grid_search.best_params_)\n",
    "\n"
   ]
  },
  {
   "cell_type": "markdown",
   "metadata": {},
   "source": [
    "(a) Do you need to stratify your cross-validation? - yes\n",
    "(b) What scoring metric is most appropriate for this task? \n",
    "(c) What hyperparameters did you choose? How many models did you fit in total? \n",
    "(d) Present your results for the optimal hyperparameter combination.\n"
   ]
  },
  {
   "cell_type": "code",
   "execution_count": 244,
   "metadata": {},
   "outputs": [
    {
     "name": "stdout",
     "output_type": "stream",
     "text": [
      "ACCURACY: 0.9473684210526315\n"
     ]
    },
    {
     "data": {
      "image/png": "[encoded data removed]",
      "text/plain": [
       "<Figure size 600x500 with 2 Axes>"
      ]
     },
     "metadata": {},
     "output_type": "display_data"
    }
   ],
   "source": [
    "score = optimal_model.score(test_X,test_y)\n",
    "print(f'ACCURACY: {score}')\n",
    "\n",
    "predicted_y = optimal_model.predict(test_X)\n",
    "\n",
    "confusion = confusion_matrix(test_y, predicted_y)\n",
    "\n",
    "plt.figure(figsize=(6, 5))\n",
    "sns.heatmap(confusion, annot=True, fmt='d', cmap='Blues', xticklabels=['Benign', 'Malignant'], yticklabels=['Benign', 'Malignant'])\n",
    "plt.xlabel('Predicted')\n",
    "plt.ylabel('Actual')\n",
    "plt.title('Confusion Matrix')\n",
    "plt.show()"
   ]
  }
 ],
 "metadata": {
  "kernelspec": {
   "display_name": "base",
   "language": "python",
   "name": "python3"
  },
  "language_info": {
   "codemirror_mode": {
    "name": "ipython",
    "version": 3
   },
   "file_extension": ".py",
   "mimetype": "text/x-python",
   "name": "python",
   "nbconvert_exporter": "python",
   "pygments_lexer": "ipython3",
   "version": "3.11.11"
  },
  "orig_nbformat": 4
 },
 "nbformat": 4,
 "nbformat_minor": 2
}
